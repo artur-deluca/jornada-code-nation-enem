{
 "cells": [
  {
   "cell_type": "markdown",
   "metadata": {},
   "source": [
    "<h3>Rebuild ENEM's answers<br></h3>\n",
    "\n",
    "The enem's test with 45 single choice math questions, followed by alternatives ranging from A to E. In this scenario the last five answers have been removed from the test dataset, so you will rebuild them from the final average result - creating a model to predict the marked down answers."
   ]
  },
  {
   "cell_type": "code",
   "execution_count": 1,
   "metadata": {},
   "outputs": [],
   "source": [
    "import pandas as pd\n",
    "import matplotlib.pyplot as plt\n",
    "import numpy as np\n",
    "\n",
    "from scipy.spatial.distance import cdist\n",
    "\n",
    "from sklearn.cluster import KMeans\n",
    "from sklearn.preprocessing import LabelEncoder\n",
    "\n",
    "from src.send_answer import send_answer\n",
    "from src.models.regression import predict\n",
    "from src.models.markov import Markov\n",
    "from src.models.score import score\n",
    "\n",
    "np.random.seed(42)\n",
    "pd.set_option('display.max_columns', 500)"
   ]
  },
  {
   "cell_type": "code",
   "execution_count": 2,
   "metadata": {},
   "outputs": [],
   "source": [
    "# input data\n",
    "train = pd.read_csv('../data/raw/train.csv', index_col=0).set_index('NU_INSCRICAO')\n",
    "test = pd.read_csv('../data/raw/test3.csv').set_index('NU_INSCRICAO')\n",
    "\n",
    "# quick data clean-up\n",
    "train.loc[:,'TX_RESPOSTAS_MT'] = train.loc[:,'TX_RESPOSTAS_MT'].str.replace('\\.','*')\n",
    "train = train.loc[train.TX_RESPOSTAS_MT.dropna(axis=0).index]\n",
    "\n",
    "# remove the 0 scores from the training set\n",
    "train = train.loc[train.NU_NOTA_MT != 0,:]\n",
    "\n",
    "# reposition the training set\n",
    "train = train[list(test.columns)+['TX_GABARITO_MT']]\n",
    "\n",
    "train['group'], test['group'] = '', ''\n",
    "train['PREDICTION'], test['PREDICTION'] = '', ''"
   ]
  },
  {
   "cell_type": "markdown",
   "metadata": {},
   "source": [
    "<h3>Strategy</h3><br>\n",
    "Considering the available options to choose from (A to E) and including the possibility to leave the question blank (*) the student last 5 answers would have a 1/7776 probability in a uniform distribution.<br><br> \n",
    "\n",
    "The strategy to overcome the dataset diversity consists on segmenting data in subsets in which the likelihood of similar answers gets increased. Not only using the test codes but utilizing `k_means` to analyze the previously filled answers to better define the subsets"
   ]
  },
  {
   "cell_type": "markdown",
   "metadata": {},
   "source": [
    "<h4>Processing the subset of previous answers</h4>"
   ]
  },
  {
   "cell_type": "code",
   "execution_count": 3,
   "metadata": {},
   "outputs": [],
   "source": [
    "codes = list(train['CO_PROVA_MT'].unique())\n",
    "\n",
    "prev_answers_train = pd.DataFrame(list(map(lambda x: list(x), train.TX_RESPOSTAS_MT.str[:-5]))).set_index(train.index)\n",
    "prev_answers_test = pd.DataFrame(list(map(lambda x: list(x), test.TX_RESPOSTAS_MT))).set_index(test.index)\n",
    "\n",
    "prev_answers_train['code'] = train['CO_PROVA_MT']\n",
    "prev_answers_test['code'] = test['CO_PROVA_MT']\n",
    "\n",
    "prev_answers = pd.concat([prev_answers_train, prev_answers_test])"
   ]
  },
  {
   "cell_type": "code",
   "execution_count": 4,
   "metadata": {},
   "outputs": [],
   "source": [
    "label_encod = LabelEncoder()\n",
    "label_encod.fit(['A','B','C','D','E','*']);\n",
    "prev_answers_enc = prev_answers.copy()\n",
    "prev_answers_enc.iloc[:,:-1] = prev_answers_enc.iloc[:,:-1].apply(label_encod.transform)\n",
    "prev_answers['group'] = ''"
   ]
  },
  {
   "cell_type": "markdown",
   "metadata": {},
   "source": [
    "**How to define the number of clusters?**  <a>Elbow method</a>"
   ]
  },
  {
   "cell_type": "code",
   "execution_count": 5,
   "metadata": {},
   "outputs": [
    {
     "data": {
      "image/png": "[encoded data removed]",
      "text/plain": [
       "<Figure size 432x288 with 1 Axes>"
      ]
     },
     "metadata": {},
     "output_type": "display_data"
    }
   ],
   "source": [
    "# k means determine k\n",
    "distortions = []\n",
    "code = codes[0]\n",
    "X = prev_answers_enc.loc[prev_answers.code == code].iloc[:,:-1].values\n",
    "K = range(1, 30)\n",
    "for k in K:\n",
    "    kmeanModel = KMeans(n_clusters=k)\n",
    "    kmeanModel.fit(X)\n",
    "    distortions.append(sum(np.min(cdist(X, kmeanModel.cluster_centers_, 'euclidean'), axis=1)) / X.shape[0])\n",
    "\n",
    "# plot the elbow\n",
    "plt.plot(K, distortions, 'bx-')\n",
    "plt.xlabel('k')\n",
    "plt.ylabel('Distortion')\n",
    "plt.title('The Elbow Method showing the optimal k')\n",
    "plt.show()"
   ]
  },
  {
   "cell_type": "code",
   "execution_count": 6,
   "metadata": {},
   "outputs": [],
   "source": [
    "k_clusters = 6\n",
    "\n",
    "for code in codes:\n",
    "    X = prev_answers_enc.loc[prev_answers.code == code].iloc[:,:-1].values\n",
    "    kmeanModel = KMeans(n_clusters=k_clusters, init='random')\n",
    "    kmeanModel.fit(X)\n",
    "    prev_answers.loc[prev_answers.code == code, 'group'] = kmeanModel.labels_\n",
    "\n",
    "train.loc[:, 'group'] = prev_answers.loc[train.index, 'group']\n",
    "test.loc[:, 'group'] = prev_answers.loc[test.index, 'group']"
   ]
  },
  {
   "cell_type": "markdown",
   "metadata": {},
   "source": [
    "<h3>Estimate</h3><br>\n",
    "The underlying idea of the following function is to predict written answer for the segmented performance quartile as well as for its corresponding test using a Markov Chain.<br>\n",
    "\n",
    "*Reference materials:*\n",
    "<ol>\n",
    "    <li><a href=\"https://www.youtube.com/watch?v=eGFJ8vugIWA\">Coding Train - Markov Chains</a></li>\n",
    "    <li><a href=\"http://setosa.io/ev/markov-chains/\">Markov Chains Visually Explained</a></li>\n",
    "</ol>\n",
    "\n",
    "<br>In this case, the Markov Chain will be trained with the last 3 predecessors of the first answer to predict along with the answers of the trained dataset. The prediction of the chain will happen incrementally, as it predicts the answers one by one \n"
   ]
  },
  {
   "cell_type": "code",
   "execution_count": 7,
   "metadata": {},
   "outputs": [
    {
     "name": "stdout",
     "output_type": "stream",
     "text": [
      "Training set accuracy: 24.13\n"
     ]
    }
   ],
   "source": [
    "# set up the variables for the Markov Chains\n",
    "\n",
    "# number of letters consid\n",
    "\n",
    "order = 3\n",
    "n_predictions = 5\n",
    "shift = n_predictions + order\n",
    "\n",
    "# iterate through all the math test codes in the training set\n",
    "test_codes = train.CO_PROVA_MT.unique()\n",
    "for cod in test_codes:\n",
    "    \n",
    "    # iterate through the classified groups\n",
    "    groups = train.group.unique()\n",
    "    for group in groups:\n",
    "       \n",
    "        model = Markov(order)\n",
    "        # train markov chain using each line\n",
    "        \n",
    "        train_set = train.loc[(train.CO_PROVA_MT == cod) & (train.group == group)]\n",
    "        test_set = test.loc[(test.CO_PROVA_MT == cod) & (test.group == group)]\n",
    "        \n",
    "        train_test_set = pd.concat([\n",
    "            train_set.loc[:,'TX_RESPOSTAS_MT'].str[-shift:-n_predictions], \n",
    "            test_set.loc[:,'TX_RESPOSTAS_MT'].str[-order:]\n",
    "        ])\n",
    "        \n",
    "        for i in train_set['TX_RESPOSTAS_MT'].str[-shift:]:\n",
    "            model.train(i)\n",
    "              \n",
    "        for index, element in train_test_set.iteritems():\n",
    "            # build answer from empty string\n",
    "            enem_answer = ''\n",
    "            for _ in range(n_predictions):\n",
    "                try:\n",
    "                    enem_answer += model.predict(element)\n",
    "                except KeyError or ValueError:\n",
    "                    # In case it tries to make an unseen prediction, the result will be the mode on that position\n",
    "                    enem_answer += train_set.loc[:, 'TX_RESPOSTAS_MT'].str[-n_predictions+len(enem_answer)].mode()[0]\n",
    "                element = element[-order+1:]+enem_answer[-1]\n",
    "            train_test_set.loc[index] = enem_answer\n",
    "        \n",
    "        train.loc[train_set.index,'PREDICTION'] = train_test_set.loc[train_set.index]\n",
    "        test.loc[test_set.index,'PREDICTION'] = train_test_set.loc[test_set.index]\n",
    "\n",
    "print('Training set accuracy: %.2f' % (score(train.TX_RESPOSTAS_MT.str[-n_predictions:], train.PREDICTION)*100))"
   ]
  },
  {
   "cell_type": "code",
   "execution_count": 8,
   "metadata": {},
   "outputs": [],
   "source": [
    "answer = test.copy().loc[:,['PREDICTION']]\n",
    "answer = answer.rename(index=str, columns={\"PREDICTION\": \"TX_RESPOSTAS_MT\"})\n",
    "#send_answer(answer.reset_index(), 3)"
   ]
  }
 ],
 "metadata": {
  "kernelspec": {
   "display_name": "Python 3",
   "language": "python",
   "name": "python3"
  },
  "language_info": {
   "codemirror_mode": {
    "name": "ipython",
    "version": 3
   },
   "file_extension": ".py",
   "mimetype": "text/x-python",
   "name": "python",
   "nbconvert_exporter": "python",
   "pygments_lexer": "ipython3",
   "version": "3.6.0"
  }
 },
 "nbformat": 4,
 "nbformat_minor": 2
}
