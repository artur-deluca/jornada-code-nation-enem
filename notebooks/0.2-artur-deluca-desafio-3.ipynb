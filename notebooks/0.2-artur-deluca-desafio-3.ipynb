{
 "cells": [
  {
   "cell_type": "markdown",
   "metadata": {},
   "source": [
    "<h3>Rebuild ENEM's answers<br></h3>\n",
    "\n",
    "Since some ENEM answers have been lost, you will rebuild them from the final average result - creating a model to predict the marked down answers."
   ]
  },
  {
   "cell_type": "code",
   "execution_count": 1,
   "metadata": {
    "collapsed": true
   },
   "outputs": [],
   "source": [
    "import pandas as pd\n",
    "import numpy as np\n",
    "import sys\n",
    "\n",
    "# could not manage to use a package version of refactor modules\n",
    "sys.path.insert(0, '../src')\n",
    "from send_answer import send_answer\n",
    "\n",
    "sys.path.insert(0, '../src/models')\n",
    "from regression import predict\n",
    "from score import score\n",
    "\n",
    "pd.set_option('display.max_columns', 500)"
   ]
  },
  {
   "cell_type": "code",
   "execution_count": 2,
   "metadata": {
    "collapsed": true
   },
   "outputs": [],
   "source": [
    "# input data\n",
    "train = pd.read_csv('../data/raw/train.csv', index_col=0).set_index('NU_INSCRICAO')\n",
    "test = pd.read_csv('../data/raw/test3.csv').set_index('NU_INSCRICAO')\n",
    "\n",
    "# quick data clean-up\n",
    "train.loc[:,'TX_RESPOSTAS_MT'] = train.loc[:,'TX_RESPOSTAS_MT'].str.replace('\\.','*')\n",
    "train = train.loc[train.TX_RESPOSTAS_MT.dropna(axis=0).index]"
   ]
  },
  {
   "cell_type": "markdown",
   "metadata": {},
   "source": [
    "<h3>Prediction strategy</h3><br>\n",
    "The underlying idea of the following function is to predict written answer for the segmented performance quartile as well as for its corresponding test using a MarkovChain\n",
    "\n",
    "_Reference materials:_\n",
    "<ol>\n",
    "    <li><a href=\"https://www.youtube.com/watch?v=eGFJ8vugIWA\">Coding Train - Markov Chains</a></li>\n",
    "    <li><a href=\"http://setosa.io/ev/markov-chains/\">Markov Chains Visually Explained</a></li>\n",
    "</ol>"
   ]
  },
  {
   "cell_type": "code",
   "execution_count": 3,
   "metadata": {
    "collapsed": false
   },
   "outputs": [],
   "source": [
    "# predict the grades on the test set using the Quantile Transformation\n",
    "grade_prediction = predict(train.drop('TX_RESPOSTAS_MT', axis=1), test.drop('TX_RESPOSTAS_MT', axis=1))\n",
    "test.loc[list(grade_prediction.index), 'NU_NOTA_MT'] = grade_prediction.loc[:,'NU_NOTA_MT']\n",
    "\n",
    "# remove the 0 scores from the training set\n",
    "train = train.loc[train.NU_NOTA_MT != 0,:]\n",
    "\n",
    "# reposition the training set\n",
    "train = train.copy()[list(test.columns)+['TX_GABARITO_MT']]\n",
    "\n",
    "# separte the datasets in quartiles based on the math grade\n",
    "quartiles = 4\n",
    "merged_grades = pd.qcut(pd.concat([train.NU_NOTA_MT, test.NU_NOTA_MT]), quartiles, labels = False)\n",
    "train['MT_QT'] = merged_grades.loc[train.index].values\n",
    "test['MT_QT'] = merged_grades.loc[test.index].values\n",
    "\n",
    "\n",
    "train['PREDICTION'] = ''\n",
    "test['PREDICTION'] = '' "
   ]
  },
  {
   "cell_type": "code",
   "execution_count": 4,
   "metadata": {
    "collapsed": false
   },
   "outputs": [],
   "source": [
    "from random import choice\n",
    "class MarkovCN:\n",
    "    def __init__(self, order = 3):\n",
    "        self.states = {}\n",
    "        self.order = order\n",
    "    \n",
    "    def train(self, elements):\n",
    "        for i in range(len(elements)):\n",
    "            # create the keys based on the order of the Markov Chain            \n",
    "            key = tuple(elements[i:self.order+i])\n",
    "            if key not in self.states.keys():\n",
    "                self.states[key] = []\n",
    "            try:\n",
    "                self.states[key].append(elements[self.order+i])\n",
    "            except IndexError:\n",
    "                pass\n",
    "    \n",
    "    def predict(self, elements):\n",
    "        try:\n",
    "            return choice(self.states[tuple(elements[-self.order:])])\n",
    "        except IndexError:\n",
    "            raise KeyError"
   ]
  },
  {
   "cell_type": "code",
   "execution_count": 6,
   "metadata": {
    "collapsed": false
   },
   "outputs": [
    {
     "name": "stdout",
     "output_type": "stream",
     "text": [
      "Training set accuracy: 23.47\n"
     ]
    }
   ],
   "source": [
    "# set up the variables for the Markov Chains\n",
    "order = 3  # number of letters to consider to train the Markov Chain\n",
    "n_predictions = 5\n",
    "shift = n_predictions + order\n",
    "\n",
    "# iterate through all the math test codes in the training set\n",
    "test_codes = train.CO_PROVA_MT.unique()\n",
    "for cod in test_codes:\n",
    "    \n",
    "    # iterate through the performance quartiles\n",
    "    grade_quartiles = train.MT_QT.unique()\n",
    "    for quartile in grade_quartiles:\n",
    "       \n",
    "        model = MarkovCN(order)\n",
    "        # train markov chain using each line\n",
    "        \n",
    "        train_set = train.loc[(train.CO_PROVA_MT == cod) & (train.MT_QT == quartile)]\n",
    "        test_set = test.loc[(test.CO_PROVA_MT == cod) & (test.MT_QT == quartile)]\n",
    "        \n",
    "        for i in train_set.index:\n",
    "            model.train(train.loc[i, 'TX_RESPOSTAS_MT'][-shift:])\n",
    "            # attempt to enforce higher grades\n",
    "            #for _ in range(int(quartile)):\n",
    "            #    model.train(train.loc[i,'TX_GABARITO_MT'][-shift:])\n",
    "        \n",
    "        # this two iterations below must be kept separated due to the divergence in the exception handling\n",
    "        \n",
    "        for i in train_set.index:\n",
    "            # build answer from empty string\n",
    "            enem_answer = ''\n",
    "            # collect last string of characters from the answer\n",
    "            element = train.loc[i,'TX_RESPOSTAS_MT'][-shift:-n_predictions]\n",
    "            for _ in range(n_predictions):\n",
    "                try:\n",
    "                    enem_answer += model.predict(element)\n",
    "                except KeyError or ValueError:\n",
    "                    # In case it tries to make an unseen prediction, the result will be the mode on that position\n",
    "                    enem_answer += train_set.loc[:, 'TX_RESPOSTAS_MT'].str[-n_predictions+len(enem_answer)].mode()[0]\n",
    "                element = element[-order+1:]+enem_answer[-1]\n",
    "            train.loc[i,'PREDICTION'] = enem_answer\n",
    "\n",
    "        for i in test_set.index:\n",
    "            # build answer from empty string\n",
    "            enem_answer = ''\n",
    "            # collect last string of characters from the answer\n",
    "            element = test.loc[i, 'TX_RESPOSTAS_MT'][-order:]\n",
    "            for _ in range(n_predictions):\n",
    "                try:\n",
    "                    enem_answer += model.predict(element)\n",
    "                except KeyError or ValueError:\n",
    "                    # In case it tries to make an unseen prediction, the result will be the mode on that position\n",
    "                    enem_answer += train_set.loc[:, 'TX_RESPOSTAS_MT'].str[-n_predictions+len(enem_answer)].mode()[0]\n",
    "                element = element[-order+1:]+enem_answer[-1]  \n",
    "            test.loc[i, 'PREDICTION'] = enem_answer\n",
    "\n",
    "print('Training set accuracy: %.2f' % (score(train.TX_RESPOSTAS_MT.str[-n_predictions:], train.PREDICTION)*100))"
   ]
  },
  {
   "cell_type": "code",
   "execution_count": null,
   "metadata": {
    "collapsed": false
   },
   "outputs": [],
   "source": [
    "answer = test.copy().loc[:,['PREDICTION']]\n",
    "answer = answer.rename(index=str, columns={\"PREDICTION\": \"TX_RESPOSTAS_MT\"})\n",
    "#send_answer(answer.reset_index(), 3)"
   ]
  }
 ],
 "metadata": {
  "kernelspec": {
   "display_name": "Python 3",
   "language": "python",
   "name": "python3"
  },
  "language_info": {
   "codemirror_mode": {
    "name": "ipython",
    "version": 3
   },
   "file_extension": ".py",
   "mimetype": "text/x-python",
   "name": "python",
   "nbconvert_exporter": "python",
   "pygments_lexer": "ipython3",
   "version": "3.6.0"
  }
 },
 "nbformat": 4,
 "nbformat_minor": 2
}
