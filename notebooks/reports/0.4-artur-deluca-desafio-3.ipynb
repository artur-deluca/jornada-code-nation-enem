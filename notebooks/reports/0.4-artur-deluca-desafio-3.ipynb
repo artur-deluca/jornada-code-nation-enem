{
 "cells": [
  {
   "cell_type": "markdown",
   "metadata": {},
   "source": [
    "<h3>Rebuild ENEM's answers<br></h3>\n",
    "\n",
    "The enem's test with 45 single choice math questions, followed by alternatives ranging from A to E. In this scenario the last five answers have been removed from the test dataset, so you will rebuild them from the final average result - creating a model to predict the marked down answers."
   ]
  },
  {
   "cell_type": "code",
   "execution_count": 2,
   "metadata": {},
   "outputs": [],
   "source": [
    "import pandas as pd\n",
    "import matplotlib.pyplot as plt\n",
    "import numpy as np\n",
    "\n",
    "from scipy.spatial.distance import cdist\n",
    "\n",
    "from sklearn.cluster import KMeans\n",
    "from sklearn.model_selection import train_test_split\n",
    "from sklearn.preprocessing import LabelEncoder\n",
    "\n",
    "from src.send_answer import send_answer\n",
    "from src.models.markov import Markov\n",
    "from src.models.score import score, naive_approach\n",
    "\n",
    "np.random.seed(42)\n",
    "pd.set_option('display.max_columns', 500)"
   ]
  },
  {
   "cell_type": "markdown",
   "metadata": {},
   "source": [
    "<h3>Strategy</h3><br>\n",
    "Considering the available options to choose from (A to E) and including the possibility to leave the question blank (*) the student last 5 answers would have a 1/7776 probability in a uniform distribution.<br><br> \n",
    "\n",
    "The strategy to overcome the dataset diversity consists on segmenting data in subsets in which the likelihood of similar answers gets increased. Not only using the test codes but utilizing `k_means` to analyze the previously filled answers to better define the subsets.\n",
    "\n",
    "Additionally, a validation set will be taken from the train set to identify potential overfitting"
   ]
  },
  {
   "cell_type": "markdown",
   "metadata": {},
   "source": [
    "<h3>Estimate</h3><br>\n",
    "The underlying idea of the following function is to predict written answer for the segmented performance quartile as well as for its corresponding test using a Markov Chain.<br>\n",
    "\n",
    "*Reference materials:*\n",
    "<ol>\n",
    "    <li><a href=\"https://www.youtube.com/watch?v=eGFJ8vugIWA\">Coding Train - Markov Chains</a></li>\n",
    "    <li><a href=\"http://setosa.io/ev/markov-chains/\">Markov Chains Visually Explained</a></li>\n",
    "</ol>\n",
    "\n",
    "<br>Different from the other cases, this Markov Chain predicts all the answers at once, reducing the potential randomness in the results, however likely increasing overfitting\n"
   ]
  },
  {
   "cell_type": "code",
   "execution_count": 16,
   "metadata": {},
   "outputs": [
    {
     "name": "stdout",
     "output_type": "stream",
     "text": [
      "Training set accuracy: 50.29\n",
      "Validation set accuracy: 25.55\n"
     ]
    }
   ],
   "source": [
    "# set up the variables for the Markov Chains\n",
    "\n",
    "# number of letters considered to train the Markov Chain (e.g. Reads the last three answer to predict the next)\n",
    "\n",
    "order = 3\n",
    "n_predictions = 5\n",
    "shift = n_predictions + order\n",
    "\n",
    "# iterate through all the math test codes\n",
    "test_codes = prev_answers.code.unique()\n",
    "for cod in test_codes:\n",
    "    \n",
    "    # iterate through the classified groups\n",
    "    groups = prev_answers.group.unique()\n",
    "    for group in groups:\n",
    "       \n",
    "        model = Markov(order, n_predictions)\n",
    "        # train markov chain using each line\n",
    "        \n",
    "        train_set = train.loc[(train.CO_PROVA_MT == cod) & (train.group == group)]\n",
    "        validation_set = validation.loc[(validation.CO_PROVA_MT == cod) & (validation.group == group)]\n",
    "        test_set = test.loc[(test.CO_PROVA_MT == cod) & (test.group == group)]\n",
    "        \n",
    "        train_validation_test_set = pd.concat([\n",
    "            train_set.loc[:,'TX_RESPOSTAS_MT'].str[-shift:-n_predictions], \n",
    "            validation_set.loc[:,'TX_RESPOSTAS_MT'].str[-order:],\n",
    "            test_set.loc[:,'TX_RESPOSTAS_MT'].str[-order:]\n",
    "        ])\n",
    "        \n",
    "        # assimilate all answers at once\n",
    "        for i in train_set['TX_RESPOSTAS_MT'].str[-shift:]:\n",
    "            model.train(i, multilple=False)\n",
    "              \n",
    "        for index, element in train_validation_test_set.iteritems():\n",
    "            # build answer from empty string\n",
    "            enem_answer = ''\n",
    "            try:    \n",
    "                enem_answer += model.predict(element)\n",
    "            except KeyError or ValueError:\n",
    "                for _ in range(n_predictions):\n",
    "                    # In case it tries to make an unseen prediction, the result will be the mode on that position\n",
    "                    enem_answer += train_set.loc[:, 'TX_RESPOSTAS_MT'].str[-n_predictions+len(enem_answer)].mode()[0]\n",
    "            \n",
    "            train_validation_test_set.loc[index] = enem_answer\n",
    "        \n",
    "        train.loc[train_set.index,'PREDICTION'] = train_validation_test_set.loc[train_set.index]\n",
    "        validation.loc[validation_set.index,'PREDICTION'] = train_validation_test_set.loc[validation_set.index]\n",
    "        test.loc[test_set.index,'PREDICTION'] = train_validation_test_set.loc[test_set.index]\n",
    "\n",
    "print('Training set accuracy: %.2f' % (score(train.TX_RESPOSTAS_MT.str[-n_predictions:], train.PREDICTION)*100))\n",
    "print('Validation set accuracy: %.2f' % (score(validation.TX_RESPOSTAS_MT.str[-n_predictions:], validation.PREDICTION)*100))"
   ]
  },
  {
   "cell_type": "code",
   "execution_count": 1,
   "metadata": {},
   "outputs": [],
   "source": [
    "from src.models.markov import Markov\n",
    "import pandas as pd\n",
    "\n",
    "t = Markov(streak=5)\n",
    "\n",
    "# input data\n",
    "train = pd.read_csv('../../data/interim/train3.csv').set_index('NU_INSCRICAO')\n",
    "\n",
    "t.train_chain(train)"
   ]
  }
 ],
 "metadata": {
  "kernelspec": {
   "display_name": "Python 3",
   "language": "python",
   "name": "python3"
  },
  "language_info": {
   "codemirror_mode": {
    "name": "ipython",
    "version": 3
   },
   "file_extension": ".py",
   "mimetype": "text/x-python",
   "name": "python",
   "nbconvert_exporter": "python",
   "pygments_lexer": "ipython3",
   "version": "3.6.0"
  }
 },
 "nbformat": 4,
 "nbformat_minor": 2
}
