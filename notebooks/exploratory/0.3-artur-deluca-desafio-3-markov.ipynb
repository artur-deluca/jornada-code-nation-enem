{
 "cells": [
  {
   "cell_type": "markdown",
   "metadata": {},
   "source": [
    "<h3>Rebuild ENEM's answers<br></h3>\n",
    "\n",
    "The enem's math test consists of 45 single choice questions with alternatives ranging from A to E. In this scenario the last five answers have been removed from the test dataset, so you will rebuild them from the final average result - creating a model to predict the marked down answers."
   ]
  },
  {
   "cell_type": "code",
   "execution_count": 1,
   "metadata": {},
   "outputs": [],
   "source": [
    "import pandas as pd\n",
    "import matplotlib.pyplot as plt\n",
    "import numpy as np\n",
    "\n",
    "from sklearn.cluster import KMeans\n",
    "from sklearn.preprocessing import LabelEncoder\n",
    "\n",
    "from src.send_answer import send_answer\n",
    "from src.models.markov import Markov\n",
    "from src.models.score import score, naive_approach\n",
    "\n",
    "pd.set_option('display.max_columns', 100)"
   ]
  },
  {
   "cell_type": "markdown",
   "metadata": {},
   "source": [
    "Considering the available options to choose from (A to E) and including the possibility to leave the question blank (*) the student last 5 answers would have a 1/7776 probability in a uniform distribution.<br><br> "
   ]
  },
  {
   "cell_type": "code",
   "execution_count": 2,
   "metadata": {},
   "outputs": [],
   "source": [
    "# input data\n",
    "train = pd.read_csv('../../data/processed/train3.csv').set_index('NU_INSCRICAO')\n",
    "validation = pd.read_csv('../../data/processed/validation3.csv').set_index('NU_INSCRICAO')\n",
    "test = pd.read_csv('../../data/processed/test3.csv').set_index('NU_INSCRICAO')"
   ]
  },
  {
   "cell_type": "code",
   "execution_count": 3,
   "metadata": {},
   "outputs": [],
   "source": [
    "# number of previous answers to take in account to predict the next values\n",
    "order = 3\n",
    "\n",
    "# number of answers to predict per row\n",
    "streak = 5\n",
    "\n",
    "# target to predict\n",
    "target = 'TX_RESPOSTAS_MT'\n",
    "\n",
    "# fields to segment the dataset\n",
    "id = ['CO_PROVA_MT', 'group']"
   ]
  },
  {
   "cell_type": "markdown",
   "metadata": {},
   "source": [
    "### Strategy\n",
    "The strategy to overcome the dataset diversity consists on segmenting data in subsets in which the likelihood of similar answers gets increased. Not only using the `math test codes` but utilizing `k_means` to analyze the previously filled answers to better define the subsets.\n",
    "\n",
    "Additionally, a validation set will be taken from the train set to identify potential overfitting"
   ]
  },
  {
   "cell_type": "code",
   "execution_count": 4,
   "metadata": {},
   "outputs": [
    {
     "name": "stdout",
     "output_type": "stream",
     "text": [
      "Number of samples per math test code:\n",
      "[3326, 3085, 3161, 3128, 87, 79, 80, 69]\n"
     ]
    }
   ],
   "source": [
    "# merging the dataframes\n",
    "prev_answers = pd.concat([train.loc[:, [target,id[0]]], validation.loc[:, [target,id[0]]], test.loc[:, [target,id[0]]]])\n",
    "\n",
    "# select the threshold to limit the number of answers in the training set\n",
    "until = max(prev_answers.TX_RESPOSTAS_MT.str.len())-streak\n",
    "\n",
    "# concatenate with the trimmed and featured answers as well as with the corresponding math test codes\n",
    "prev_answers = pd.concat([\n",
    "    pd.DataFrame(list(map(lambda x: list(x), prev_answers.TX_RESPOSTAS_MT.str[:until]))).set_index(prev_answers.index),\n",
    "    prev_answers.CO_PROVA_MT\n",
    "    ], \n",
    "    axis=1\n",
    ")\n",
    "\n",
    "# create empty collumn to store the clusters' ids\n",
    "prev_answers['group'] = 0\n",
    "\n",
    "# since some of the math test codes present to few values, kmeans will one be used for those that possess more than 200 values\n",
    "print(\"Number of samples per math test code:\\n{}\".format(\n",
    "    [len(prev_answers.loc[prev_answers.CO_PROVA_MT == i]) for i in prev_answers.CO_PROVA_MT.unique()])\n",
    ")\n",
    "\n",
    "# add the threshold to avoid over-fragmenting the dataset\n",
    "codes = [i for i in prev_answers.CO_PROVA_MT.unique() if len(prev_answers.loc[prev_answers.CO_PROVA_MT == i]) > 200]"
   ]
  },
  {
   "cell_type": "code",
   "execution_count": 5,
   "metadata": {},
   "outputs": [],
   "source": [
    "# create label encoder for the answers and fit in the dataset\n",
    "label_encod = LabelEncoder()\n",
    "label_encod.fit(['A','B','C','D','E','*']);\n",
    "prev_answers.iloc[:,:-2] = prev_answers.iloc[:,:-2].apply(label_encod.transform)"
   ]
  },
  {
   "cell_type": "markdown",
   "metadata": {},
   "source": [
    "**How to define the number of clusters?**  <a href=\"https://www.coursera.org/lecture/machine-learning/choosing-the-number-of-clusters-Ks0E9\">Elbow method</a>\n",
    "\n",
    "To define the ideal number of clusters in the `k_means` algorithm is to iterate through possible number of clusters and identify the moment where the slope prominently changes, selecting this point as the `k` number of clusters"
   ]
  },
  {
   "cell_type": "code",
   "execution_count": 6,
   "metadata": {},
   "outputs": [
    {
     "data": {
      "image/png": "[encoded data removed]",
      "text/plain": [
       "<Figure size 432x288 with 1 Axes>"
      ]
     },
     "metadata": {},
     "output_type": "display_data"
    }
   ],
   "source": [
    "# k means determine k\n",
    "distortions = []\n",
    "\n",
    "# take the first code as an example\n",
    "code = codes[0]\n",
    "\n",
    "# select the corresponding values\n",
    "X = prev_answers.loc[prev_answers.CO_PROVA_MT == code].iloc[:,:-2].values\n",
    "\n",
    "#range the k-number of clusters from 1 to 10\n",
    "K = range(1,11)\n",
    "for k in K:\n",
    "    kmeanModel = KMeans(n_clusters=k, n_jobs=-1).fit(X)\n",
    "    distortions.append(np.sqrt(kmeanModel.inertia_)/ X.shape[0])\n",
    "\n",
    "# Plot the elbow\n",
    "plt.plot(K, distortions, 'bx-')\n",
    "plt.xlabel('k')\n",
    "plt.ylabel('Distortion')\n",
    "plt.title('The elbow method')\n",
    "plt.show()"
   ]
  },
  {
   "cell_type": "markdown",
   "metadata": {},
   "source": [
    "However, in this case, as in many other real case scenarios, the slope changes much more progressively than abruptly, invalidating the elbow method. Therefore the number of clusters is based on an acceptable and arbitrary amount of samples to train the Markov chains"
   ]
  },
  {
   "cell_type": "code",
   "execution_count": 7,
   "metadata": {},
   "outputs": [],
   "source": [
    "k_clusters = 10\n",
    "\n",
    "for code in codes:\n",
    "    X = prev_answers.loc[prev_answers.CO_PROVA_MT == code].iloc[:,:-2].values\n",
    "    kmeanModel = KMeans(n_clusters=k_clusters, init='random')\n",
    "    kmeanModel.fit(X)\n",
    "    prev_answers.loc[prev_answers.CO_PROVA_MT == code,'group'] = kmeanModel.labels_\n",
    "\n",
    "train.loc[:,'group'] = prev_answers.loc[train.index, 'group']\n",
    "test.loc[:, 'group'] = prev_answers.loc[test.index, 'group']\n",
    "validation.loc[:,'group'] = prev_answers.loc[validation.index, 'group']"
   ]
  },
  {
   "cell_type": "markdown",
   "metadata": {},
   "source": [
    "<h3>Estimate</h3><br>\n",
    "The underlying idea of the following function is to predict written answer for its k_cluster as well as for its corresponding test using a Markov Chain.<br>\n",
    "\n",
    "*Reference materials:*\n",
    "<ol>\n",
    "    <li><a href=\"https://www.youtube.com/watch?v=eGFJ8vugIWA\">Coding Train - Markov Chains</a></li>\n",
    "    <li><a href=\"http://setosa.io/ev/markov-chains/\">Markov Chains Visually Explained</a></li>\n",
    "</ol>"
   ]
  },
  {
   "cell_type": "code",
   "execution_count": 8,
   "metadata": {},
   "outputs": [],
   "source": [
    "model = Markov(order, streak, target, id)\n",
    "model.train_chain(train, save=False)\n",
    "\n",
    "predict = {\n",
    "    'train': lambda df, id, target: model.predict(df[target][-(order+streak):-streak], tuple(df.loc[id].values)),\n",
    "    'test': lambda df, id, target: model.predict(df[target][-order:], tuple(df.loc[id].values))\n",
    "}\n",
    "\n",
    "train['PREDICTION'] = train.apply(predict['train'], id=id, target=target, axis=1)\n",
    "validation['PREDICTION'] = validation.apply(predict['train'], id=id, target=target, axis=1)\n",
    "test['PREDICTION'] = test.apply(predict['test'], id=id, target=target, axis=1)"
   ]
  },
  {
   "cell_type": "markdown",
   "metadata": {},
   "source": [
    "### Results"
   ]
  },
  {
   "cell_type": "code",
   "execution_count": 9,
   "metadata": {},
   "outputs": [
    {
     "name": "stdout",
     "output_type": "stream",
     "text": [
      "Training set accuracy: 58.61\n",
      "Validation set accuracy: 24.14\n",
      "Naive approach accuracy: 19.80\n"
     ]
    }
   ],
   "source": [
    "print('Training set accuracy: %.2f' % (score(train.TX_RESPOSTAS_MT.str[-streak:], train.PREDICTION)*100))\n",
    "print('Validation set accuracy: %.2f' % (score(validation.TX_RESPOSTAS_MT.str[-streak:], validation.PREDICTION)*100))\n",
    "print('Naive approach accuracy: %.2f' % (naive_approach(validation)*100))"
   ]
  },
  {
   "cell_type": "markdown",
   "metadata": {},
   "source": [
    "Again, it's plausible to infer, by observing the train and validation results, that the Markov chain is very conditioned to the trained results, thus implying in a overfit"
   ]
  },
  {
   "cell_type": "markdown",
   "metadata": {},
   "source": [
    "**Send answers**"
   ]
  },
  {
   "cell_type": "code",
   "execution_count": 10,
   "metadata": {},
   "outputs": [],
   "source": [
    "answer = test.copy().loc[:,['PREDICTION']]\n",
    "answer = answer.rename(index=str, columns={\"PREDICTION\": \"TX_RESPOSTAS_MT\"})\n",
    "#send_answer(answer.reset_index(), 3)"
   ]
  }
 ],
 "metadata": {
  "kernelspec": {
   "display_name": "Python 3",
   "language": "python",
   "name": "python3"
  },
  "language_info": {
   "codemirror_mode": {
    "name": "ipython",
    "version": 3
   },
   "file_extension": ".py",
   "mimetype": "text/x-python",
   "name": "python",
   "nbconvert_exporter": "python",
   "pygments_lexer": "ipython3",
   "version": "3.6.0"
  }
 },
 "nbformat": 4,
 "nbformat_minor": 2
}
