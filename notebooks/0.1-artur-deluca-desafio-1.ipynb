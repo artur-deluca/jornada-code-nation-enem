{
 "cells": [
  {
   "cell_type": "markdown",
   "metadata": {},
   "source": [
    "<h3>Challenge: Discover the students with the best grades of ENEM 2016<br></h3>\n",
    "Using Python, Pandas and the ENEM 2016 database, you must find out who are the most performing people in this edition of the test."
   ]
  },
  {
   "cell_type": "code",
   "execution_count": 9,
   "metadata": {},
   "outputs": [],
   "source": [
    "import os\n",
    "import pandas as pd\n",
    "\n",
    "from src.send_answer import send_answer"
   ]
  },
  {
   "cell_type": "code",
   "execution_count": 10,
   "metadata": {},
   "outputs": [],
   "source": [
    "# index is the first column\n",
    "df = pd.read_csv(\"../data/raw/train.csv\", index_col=0)\n",
    "\n",
    "# select the desired columns and clean data\n",
    "df = (df[['NU_INSCRICAO', 'NU_NOTA_MT', 'NU_NOTA_CN', 'NU_NOTA_LC', 'NU_NOTA_CH', 'NU_NOTA_REDACAO']]\n",
    "      .dropna()\n",
    "      .reset_index(drop=True)\n",
    ") "
   ]
  },
  {
   "cell_type": "markdown",
   "metadata": {},
   "source": [
    "weighted average based on:\n",
    "<ul>\n",
    "<li>matemática: 3</li>\n",
    "<li>ciências da natureza: 2</li>\n",
    "<li>linguagens e códigos: 1.5</li>\n",
    "<li>ciências humanas: 1</li>\n",
    "<li>redação: 3</li>"
   ]
  },
  {
   "cell_type": "code",
   "execution_count": 11,
   "metadata": {},
   "outputs": [],
   "source": [
    "# calculate the final grade based on weighted average\n",
    "df['NOTA_FINAL'] = (df.NU_NOTA_MT*3 + \n",
    "                    df.NU_NOTA_CN*2 + \n",
    "                    df.NU_NOTA_LC*1.5 + \n",
    "                    df.NU_NOTA_CH*1 + \n",
    "                    df.NU_NOTA_REDACAO*3)\\\n",
    "                    / (3+2+1.5+1+3)\n",
    "\n",
    "# sort by NOTA FINAL in descending order\n",
    "df.sort_values('NOTA_FINAL', ascending=False).reset_index(drop=True, inplace=True)"
   ]
  },
  {
   "cell_type": "code",
   "execution_count": 12,
   "metadata": {},
   "outputs": [],
   "source": [
    "answer = df.loc[:20, ['NU_INSCRICAO', 'NOTA_FINAL']]\n",
    "#send_answer(answer, 1)"
   ]
  }
 ],
 "metadata": {
  "kernelspec": {
   "display_name": "Python 3",
   "language": "python",
   "name": "python3"
  },
  "language_info": {
   "codemirror_mode": {
    "name": "ipython",
    "version": 3
   },
   "file_extension": ".py",
   "mimetype": "text/x-python",
   "name": "python",
   "nbconvert_exporter": "python",
   "pygments_lexer": "ipython3",
   "version": "3.6.0"
  }
 },
 "nbformat": 4,
 "nbformat_minor": 2
}
